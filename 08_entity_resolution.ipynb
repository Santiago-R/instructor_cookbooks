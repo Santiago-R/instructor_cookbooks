{
    "cells": [
        {
            "cell_type": "markdown",
            "metadata": {},
            "source": [
                "# Entity Resolution and Visualization for Legal Documents\n",
                "\n",
                "In this guide, we demonstrate how to extract and resolve entities from a sample legal contract. Then, we visualize these entities and their dependencies as an entity graph. This approach can be invaluable for legal tech applications, aiding in the understanding of complex documents.\n",
                "\n",
                "## Motivation\n",
                "\n",
                "Legal contracts are full of intricate details and interconnected clauses. Automatically extracting and visualizing these elements can make it easier to understand the document's overall structure and terms."
            ]
        },
        {
            "cell_type": "markdown",
            "metadata": {},
            "source": [
                "## Imports"
            ]
        },
        {
            "cell_type": "code",
            "execution_count": 23,
            "metadata": {},
            "outputs": [],
            "source": [
                "from pydantic import BaseModel, Field\n",
                "from typing import List\n",
                "import instructor\n",
                "from openai import OpenAI\n",
                "from graphviz import Digraph\n",
                "from dotenv import load_dotenv"
            ]
        },
        {
            "cell_type": "code",
            "execution_count": 24,
            "metadata": {},
            "outputs": [
                {
                    "data": {
                        "text/plain": [
                            "True"
                        ]
                    },
                    "execution_count": 24,
                    "metadata": {},
                    "output_type": "execute_result"
                }
            ],
            "source": [
                "# Load environment variables\n",
                "load_dotenv(\"../api_keys.env\")"
            ]
        },
        {
            "cell_type": "markdown",
            "metadata": {},
            "source": [
                "## Defining the Data Structures\n",
                "\n",
                "The Entity and Property classes model extracted entities and their attributes. DocumentExtraction encapsulates a list of these entities."
            ]
        },
        {
            "cell_type": "code",
            "execution_count": 25,
            "metadata": {},
            "outputs": [],
            "source": [
                "class Property(BaseModel):\n",
                "    key: str\n",
                "    value: str\n",
                "    resolved_absolute_value: str\n",
                "\n",
                "\n",
                "class Entity(BaseModel):\n",
                "    id: int = Field(\n",
                "        ...,\n",
                "        description=\"Unique identifier for the entity, used for deduplication, design a scheme allows multiple entities\",\n",
                "    )\n",
                "    subquote_string: List[str] = Field(\n",
                "        ...,\n",
                "        description=\"Correctly resolved value of the entity, if the entity is a reference to another entity, this should be the id of the referenced entity, include a few more words before and after the value to allow for some context to be used in the resolution\",\n",
                "    )\n",
                "    entity_title: str\n",
                "    properties: List[Property] = Field(\n",
                "        ...,\n",
                "        description=\"List of properties of the entity\"\n",
                "    )\n",
                "    dependencies: List[int] = Field(\n",
                "        ...,\n",
                "        description=\"List of entity ids that this entity depends  or relies on to resolve it\",\n",
                "    )\n",
                "\n",
                "\n",
                "class DocumentExtraction(BaseModel):\n",
                "    entities: List[Entity] = Field(\n",
                "        ...,\n",
                "        description=\"Body of the answer, each fact should be a separate object with a body and a list of sources\",\n",
                "    )"
            ]
        },
        {
            "cell_type": "markdown",
            "metadata": {},
            "source": [
                "## Client Initialization"
            ]
        },
        {
            "cell_type": "code",
            "execution_count": 26,
            "metadata": {},
            "outputs": [],
            "source": [
                "# Apply the patch to the OpenAI client\n",
                "# enables response_model keyword\n",
                "client = instructor.from_openai(OpenAI())"
            ]
        },
        {
            "cell_type": "markdown",
            "metadata": {},
            "source": [
                "## Entity Extraction and Resolution\n",
                "\n",
                "The ask_ai function utilizes OpenAI's API to extract and resolve entities from the input content."
            ]
        },
        {
            "cell_type": "code",
            "execution_count": 33,
            "metadata": {},
            "outputs": [],
            "source": [
                "def ask_ai(content) -> DocumentExtraction:\n",
                "    return client.chat.completions.create(\n",
                "        model=\"gpt-4o\",\n",
                "        response_model=DocumentExtraction,\n",
                "        messages=[\n",
                "            {\n",
                "                \"role\": \"system\",\n",
                "                \"content\": \"Extract and resolve a detailed graph of entities from the following document:\",\n",
                "            },\n",
                "            {\n",
                "                \"role\": \"user\",\n",
                "                \"content\": content,\n",
                "            },\n",
                "        ],\n",
                "    )  # type: ignore"
            ]
        },
        {
            "cell_type": "markdown",
            "metadata": {},
            "source": [
                "## Graph Visualization\n",
                "\n",
                "generate_graph takes the extracted entities and visualizes them using Graphviz. It creates nodes for each entity and edges for their dependencies."
            ]
        },
        {
            "cell_type": "code",
            "execution_count": 34,
            "metadata": {},
            "outputs": [],
            "source": [
                "def generate_html_label(entity: Entity) -> str:\n",
                "    rows = [\n",
                "        f\"<tr><td>{prop.key}</td><td>{prop.resolved_absolute_value}</td></tr>\"\n",
                "        for prop in entity.properties\n",
                "    ]\n",
                "    table_rows = \"\".join(rows)\n",
                "    return f\"<<table border='0' cellborder='1' cellspacing='0'><tr><td colspan='2'><b>{entity.entity_title}</b></td></tr>{table_rows}</table>>\"\n",
                "\n",
                "\n",
                "def generate_graph(data: DocumentExtraction):\n",
                "    dot = Digraph(comment=\"Entity Graph\", node_attr={\"shape\": \"plaintext\"})\n",
                "\n",
                "    for entity in data.entities:\n",
                "        label = generate_html_label(entity)\n",
                "        dot.node(str(entity.id), label)\n",
                "\n",
                "    for entity in data.entities:\n",
                "        for dep_id in entity.dependencies:\n",
                "            dot.edge(str(entity.id), str(dep_id))\n",
                "\n",
                "    dot.render(\"entity.gv\", view=True)"
            ]
        },
        {
            "cell_type": "markdown",
            "metadata": {},
            "source": [
                "## Execution\n",
                "\n",
                "Finally, execute the code to visualize the entity graph for the sample legal contract."
            ]
        },
        {
            "cell_type": "code",
            "execution_count": 35,
            "metadata": {},
            "outputs": [],
            "source": [
                "content = \"\"\"\n",
                "Sample Legal Contract\n",
                "Agreement Contract\n",
                "\n",
                "This Agreement is made and entered into on 2020-01-01 by and between Company A (\"the Client\") and Company B (\"the Service Provider\").\n",
                "\n",
                "Article 1: Scope of Work\n",
                "\n",
                "The Service Provider will deliver the software product to the Client 30 days after the agreement date.\n",
                "\n",
                "Article 2: Payment Terms\n",
                "\n",
                "The total payment for the service is $50,000.\n",
                "An initial payment of $10,000 will be made within 7 days of the the signed date.\n",
                "The final payment will be due 45 days after [SignDate].\n",
                "\n",
                "Article 3: Confidentiality\n",
                "\n",
                "The parties agree not to disclose any confidential information received from the other party for 3 months after the final payment date.\n",
                "\n",
                "Article 4: Termination\n",
                "\n",
                "The contract can be terminated with a 30-day notice, unless there are outstanding obligations that must be fulfilled after the [DeliveryDate].\n",
                "\"\"\""
            ]
        },
        {
            "cell_type": "code",
            "execution_count": 36,
            "metadata": {},
            "outputs": [],
            "source": [
                "model = ask_ai(content)\n",
                "generate_graph(model)"
            ]
        },
        {
            "cell_type": "markdown",
            "metadata": {},
            "source": [
                "This will produce a graphical representation of the entities and their dependencies, stored as \"entity.gv\".  "
            ]
        },
        {
            "cell_type": "markdown",
            "metadata": {},
            "source": [
                "!['Entity Resolution graph'](entity_resolution_example.png)"
            ]
        }
    ],
    "metadata": {
        "kernelspec": {
            "display_name": "Python 3",
            "language": "python",
            "name": "python3"
        },
        "language_info": {
            "codemirror_mode": {
                "name": "ipython",
                "version": 3
            },
            "file_extension": ".py",
            "mimetype": "text/x-python",
            "name": "python",
            "nbconvert_exporter": "python",
            "pygments_lexer": "ipython3",
            "version": "3.12.4"
        }
    },
    "nbformat": 4,
    "nbformat_minor": 4
}
