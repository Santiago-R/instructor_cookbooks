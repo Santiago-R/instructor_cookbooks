{
    "cells": [
        {
            "cell_type": "markdown",
            "metadata": {},
            "source": [
                "# Extracting Tables using GPT-Vision\n",
                "\n",
                "This notebook demonstrates how to use Python's type annotations and OpenAI's new vision model to extract tables from images and convert them into markdown format. This method is particularly useful for data analysis and automation tasks.\n",
                "\n",
                "The full code is available on [GitHub](https://github.com/jxnl/instructor/blob/main/examples/vision/run_table.py)"
            ]
        },
        {
            "cell_type": "markdown",
            "metadata": {},
            "source": [
                "## Building the Custom Type for Markdown Tables\n",
                "\n",
                "First, we define a custom type, `MarkdownDataFrame`, to handle pandas DataFrames formatted in markdown. This type uses Python's `Annotated` and `InstanceOf` types, along with decorators `BeforeValidator` and `PlainSerializer`, to process and serialize the data."
            ]
        },
        {
            "cell_type": "code",
            "execution_count": 1,
            "metadata": {},
            "outputs": [],
            "source": [
                "from io import StringIO\n",
                "from typing import Annotated, Any\n",
                "from pydantic import BaseModel, Field, BeforeValidator, PlainSerializer, InstanceOf, WithJsonSchema\n",
                "from typing import Iterable\n",
                "import pandas as pd"
            ]
        },
        {
            "cell_type": "code",
            "execution_count": 13,
            "metadata": {},
            "outputs": [],
            "source": [
                "def md_to_df(data: Any) -> Any:\n",
                "    # Convert markdown to DataFrame\n",
                "    if isinstance(data, str):\n",
                "        return (\n",
                "            pd.read_csv(\n",
                "                StringIO(data),  # Process data\n",
                "                sep=\"|\",\n",
                "                index_col=1,\n",
                "            )\n",
                "            .dropna(axis=1, how=\"all\")\n",
                "            .iloc[1:]\n",
                "            .map(lambda x: x.strip())\n",
                "        )\n",
                "    return data"
            ]
        },
        {
            "cell_type": "code",
            "execution_count": 24,
            "metadata": {},
            "outputs": [],
            "source": [
                "MarkdownDataFrame = Annotated[\n",
                "    InstanceOf[pd.DataFrame],\n",
                "    BeforeValidator(md_to_df),\n",
                "    PlainSerializer(lambda df: df.to_markdown()),\n",
                "    WithJsonSchema(\n",
                "        {\n",
                "            \"type\": \"string\",\n",
                "            \"description\": \"The markdown representation of the table. Each table should be tidy, do not try to join tables that should be separate\",\n",
                "        }\n",
                "    ),\n",
                "]"
            ]
        },
        {
            "cell_type": "markdown",
            "metadata": {},
            "source": [
                "## Defining the Table Class\n",
                "\n",
                "The `Table` class is essential for organizing the extracted data. It includes a caption and a dataframe, processed as a markdown table. Since most of the complexity is handled by the `MarkdownDataFrame` type, the `Table` class is straightforward!"
            ]
        },
        {
            "cell_type": "code",
            "execution_count": 25,
            "metadata": {},
            "outputs": [],
            "source": [
                "class Table(BaseModel):\n",
                "    caption: str\n",
                "    dataframe: MarkdownDataFrame"
            ]
        },
        {
            "cell_type": "markdown",
            "metadata": {},
            "source": [
                "## Extracting Tables from Images\n",
                "\n",
                "The `extract_table` function uses OpenAI's vision model to process an image URL and extract tables in markdown format. We utilize the `instructor` library to patch the OpenAI client for this purpose."
            ]
        },
        {
            "cell_type": "code",
            "execution_count": 26,
            "metadata": {},
            "outputs": [
                {
                    "data": {
                        "text/plain": [
                            "True"
                        ]
                    },
                    "execution_count": 26,
                    "metadata": {},
                    "output_type": "execute_result"
                }
            ],
            "source": [
                "from dotenv import load_dotenv\n",
                "load_dotenv(\"../api_keys.env\")"
            ]
        },
        {
            "cell_type": "code",
            "execution_count": 27,
            "metadata": {},
            "outputs": [],
            "source": [
                "import instructor\n",
                "from openai import OpenAI\n",
                "\n",
                "# Apply the patch to the OpenAI client to support response_model\n",
                "# Also use MD_JSON mode since the visino model does not support any special structured output mode\n",
                "client = instructor.from_openai(OpenAI(), mode=instructor.function_calls.Mode.MD_JSON)"
            ]
        },
        {
            "cell_type": "code",
            "execution_count": 28,
            "metadata": {},
            "outputs": [],
            "source": [
                "def extract_table(url: str) -> Iterable[Table]:\n",
                "    return client.chat.completions.create(\n",
                "        model=\"gpt-4o\",\n",
                "        response_model=Iterable[Table],\n",
                "        max_tokens=1800,\n",
                "        messages=[\n",
                "            {\n",
                "                \"role\": \"user\",\n",
                "                \"content\": [\n",
                "                    {\"type\": \"text\", \"text\": \"Extract table from image.\"},\n",
                "                    {\"type\": \"image_url\", \"image_url\": {\"url\": url}},\n",
                "                ],\n",
                "            }\n",
                "        ],\n",
                "    )"
            ]
        },
        {
            "cell_type": "markdown",
            "metadata": {},
            "source": [
                "## Practical Example\n",
                "\n",
                "In this example, we apply the method to extract data from an image showing the top grossing apps in Ireland for October 2023."
            ]
        },
        {
            "cell_type": "code",
            "execution_count": 29,
            "metadata": {},
            "outputs": [
                {
                    "name": "stdout",
                    "output_type": "stream",
                    "text": [
                        "Top 10 grossing apps in October 2023 (Ireland)\n"
                    ]
                },
                {
                    "data": {
                        "text/html": [
                            "<div>\n",
                            "<style scoped>\n",
                            "    .dataframe tbody tr th:only-of-type {\n",
                            "        vertical-align: middle;\n",
                            "    }\n",
                            "\n",
                            "    .dataframe tbody tr th {\n",
                            "        vertical-align: top;\n",
                            "    }\n",
                            "\n",
                            "    .dataframe thead th {\n",
                            "        text-align: right;\n",
                            "    }\n",
                            "</style>\n",
                            "<table border=\"1\" class=\"dataframe\">\n",
                            "  <thead>\n",
                            "    <tr style=\"text-align: right;\">\n",
                            "      <th></th>\n",
                            "      <th>Android</th>\n",
                            "      <th>Category</th>\n",
                            "      <th>iOS</th>\n",
                            "      <th>Category                  .1</th>\n",
                            "    </tr>\n",
                            "    <tr>\n",
                            "      <th>Rank</th>\n",
                            "      <th></th>\n",
                            "      <th></th>\n",
                            "      <th></th>\n",
                            "      <th></th>\n",
                            "    </tr>\n",
                            "  </thead>\n",
                            "  <tbody>\n",
                            "    <tr>\n",
                            "      <th>1</th>\n",
                            "      <td>Google One</td>\n",
                            "      <td>Productivity</td>\n",
                            "      <td>Tinder: Dating, Chat &amp; Friends</td>\n",
                            "      <td>Social networking</td>\n",
                            "    </tr>\n",
                            "    <tr>\n",
                            "      <th>2</th>\n",
                            "      <td>Disney+</td>\n",
                            "      <td>Entertainment</td>\n",
                            "      <td>Disney+</td>\n",
                            "      <td>Entertainment</td>\n",
                            "    </tr>\n",
                            "    <tr>\n",
                            "      <th>3</th>\n",
                            "      <td>TikTok - Videos, Music &amp; LIVE</td>\n",
                            "      <td>Entertainment</td>\n",
                            "      <td>YouTube: Watch, Listen, Stream</td>\n",
                            "      <td>Entertainment</td>\n",
                            "    </tr>\n",
                            "    <tr>\n",
                            "      <th>4</th>\n",
                            "      <td>Candy Crush Saga</td>\n",
                            "      <td>Games</td>\n",
                            "      <td>Audible: Audio Entertainment</td>\n",
                            "      <td>Entertainment</td>\n",
                            "    </tr>\n",
                            "    <tr>\n",
                            "      <th>5</th>\n",
                            "      <td>Tinder: Dating, Chat &amp; Friends</td>\n",
                            "      <td>Social networking</td>\n",
                            "      <td>Candy Crush Saga</td>\n",
                            "      <td>Games</td>\n",
                            "    </tr>\n",
                            "    <tr>\n",
                            "      <th>6</th>\n",
                            "      <td>Coin Master</td>\n",
                            "      <td>Games</td>\n",
                            "      <td>TikTok - Videos, Music &amp; LIVE</td>\n",
                            "      <td>Entertainment</td>\n",
                            "    </tr>\n",
                            "    <tr>\n",
                            "      <th>7</th>\n",
                            "      <td>Roblox</td>\n",
                            "      <td>Games</td>\n",
                            "      <td>Bumble - Dating &amp; Make Friends</td>\n",
                            "      <td>Dating</td>\n",
                            "    </tr>\n",
                            "    <tr>\n",
                            "      <th>8</th>\n",
                            "      <td>Bumble - Dating &amp; Make Friends</td>\n",
                            "      <td>Dating</td>\n",
                            "      <td>Roblox</td>\n",
                            "      <td>Games</td>\n",
                            "    </tr>\n",
                            "    <tr>\n",
                            "      <th>9</th>\n",
                            "      <td>Royal Match</td>\n",
                            "      <td>Games</td>\n",
                            "      <td>LinkedIn: Job Search &amp; News</td>\n",
                            "      <td>Business</td>\n",
                            "    </tr>\n",
                            "    <tr>\n",
                            "      <th>10</th>\n",
                            "      <td>Spotify: Music and Podcasts</td>\n",
                            "      <td>Music &amp; Audio</td>\n",
                            "      <td>Duolingo - Language Lessons</td>\n",
                            "      <td>Education</td>\n",
                            "    </tr>\n",
                            "  </tbody>\n",
                            "</table>\n",
                            "</div>"
                        ],
                        "text/plain": [
                            "       Android                                     Category                    \\\n",
                            " Rank                                                                           \n",
                            "1                                       Google One               Productivity   \n",
                            "2                                          Disney+              Entertainment   \n",
                            "3                    TikTok - Videos, Music & LIVE              Entertainment   \n",
                            "4                                 Candy Crush Saga                      Games   \n",
                            "5                   Tinder: Dating, Chat & Friends          Social networking   \n",
                            "6                                      Coin Master                      Games   \n",
                            "7                                           Roblox                      Games   \n",
                            "8                   Bumble - Dating & Make Friends                     Dating   \n",
                            "9                                      Royal Match                      Games   \n",
                            "10                     Spotify: Music and Podcasts              Music & Audio   \n",
                            "\n",
                            "       iOS                                    Category                  .1  \n",
                            " Rank                                                                       \n",
                            "1              Tinder: Dating, Chat & Friends            Social networking  \n",
                            "2                                     Disney+                Entertainment  \n",
                            "3              YouTube: Watch, Listen, Stream                Entertainment  \n",
                            "4                Audible: Audio Entertainment                Entertainment  \n",
                            "5                            Candy Crush Saga                        Games  \n",
                            "6               TikTok - Videos, Music & LIVE                Entertainment  \n",
                            "7              Bumble - Dating & Make Friends                       Dating  \n",
                            "8                                      Roblox                        Games  \n",
                            "9                 LinkedIn: Job Search & News                     Business  \n",
                            "10                Duolingo - Language Lessons                    Education  "
                        ]
                    },
                    "metadata": {},
                    "output_type": "display_data"
                }
            ],
            "source": [
                "url = \"https://a.storyblok.com/f/47007/2400x2000/bf383abc3c/231031_uk-ireland-in-three-charts_table_v01_b.png\"\n",
                "tables = extract_table(url)\n",
                "for table in tables:\n",
                "    print(table.caption)\n",
                "    display(table.dataframe)"
            ]
        }
    ],
    "metadata": {
        "kernelspec": {
            "display_name": "Python 3",
            "language": "python",
            "name": "python3"
        },
        "language_info": {
            "codemirror_mode": {
                "name": "ipython",
                "version": 3
            },
            "file_extension": ".py",
            "mimetype": "text/x-python",
            "name": "python",
            "nbconvert_exporter": "python",
            "pygments_lexer": "ipython3",
            "version": "3.12.4"
        }
    },
    "nbformat": 4,
    "nbformat_minor": 4
}
