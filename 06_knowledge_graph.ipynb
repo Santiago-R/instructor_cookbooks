{
 "cells": [
  {
   "cell_type": "markdown",
   "metadata": {},
   "source": [
    "# Visualizing Knowledge Graphs for Complex Topics\n",
    "\n",
    "In this guide, you'll discover how to visualise a detailed knowledge graph when dealing with complex topics. We'll then move on to iteratively updating our knowledge graph with new information through a series of sequential api calls using only the Instructor library, Pydantic and Graphviz to visualise our graph.\n",
    "\n",
    "## Motivation\n",
    "\n",
    "Knowledge graphs offer a visually appealing and coherent way to understand complicated topics like quantum mechanics. By generating these graphs automatically, you can accelerate the learning process and make it easier to digest complex information."
   ]
  },
  {
   "cell_type": "markdown",
   "metadata": {},
   "source": [
    "## Imports"
   ]
  },
  {
   "cell_type": "code",
   "execution_count": 1,
   "metadata": {},
   "outputs": [],
   "source": [
    "from pydantic import BaseModel, Field\n",
    "from typing import List, Optional\n",
    "from openai import OpenAI\n",
    "import instructor\n",
    "from graphviz import Digraph"
   ]
  },
  {
   "cell_type": "code",
   "execution_count": 2,
   "metadata": {},
   "outputs": [
    {
     "data": {
      "text/plain": [
       "True"
      ]
     },
     "execution_count": 2,
     "metadata": {},
     "output_type": "execute_result"
    }
   ],
   "source": [
    "from dotenv import load_dotenv\n",
    "load_dotenv(\"../api_keys.env\")"
   ]
  },
  {
   "cell_type": "markdown",
   "metadata": {},
   "source": [
    "## Defining the Structures"
   ]
  },
  {
   "cell_type": "code",
   "execution_count": 3,
   "metadata": {},
   "outputs": [],
   "source": [
    "class BaseModelHashable(BaseModel):\n",
    "    def __hash__(self):\n",
    "        return hash((type(self),) + tuple(self.__dict__.values()))\n",
    "\n",
    "class Node(BaseModelHashable):\n",
    "    id: int\n",
    "    label: str\n",
    "    color: str\n",
    "\n",
    "class Edge(BaseModelHashable):\n",
    "    source: int\n",
    "    target: int\n",
    "    label: str\n",
    "    color: str = \"black\"\n",
    "\n",
    "class KnowledgeGraph(BaseModel):\n",
    "    nodes: List[Node] = Field(default_factory=list)\n",
    "    edges: List[Edge] = Field(default_factory=list)\n",
    "\n",
    "    def update(self, other: \"KnowledgeGraph\") -> \"KnowledgeGraph\":\n",
    "        \"\"\"Updates the current graph with the other graph, deduplicating nodes and edges.\"\"\"\n",
    "        return KnowledgeGraph(\n",
    "            nodes=list(set(self.nodes + other.nodes)),\n",
    "            edges=list(set(self.edges + other.edges)),\n",
    "        )\n",
    "\n",
    "    def draw(self, prefix: str = None):\n",
    "        dot = Digraph(comment=\"Knowledge Graph\")\n",
    "\n",
    "        for node in self.nodes:  \n",
    "            dot.node(str(node.id), node.label, color=node.color)\n",
    "\n",
    "        for edge in self.edges:  \n",
    "            dot.edge(\n",
    "                str(edge.source), str(edge.target), label=edge.label, color=edge.color\n",
    "            )\n",
    "        dot.render(prefix, format=\"png\", view=True)"
   ]
  },
  {
   "cell_type": "markdown",
   "metadata": {},
   "source": [
    "## Client Initialization"
   ]
  },
  {
   "cell_type": "code",
   "execution_count": 4,
   "metadata": {},
   "outputs": [],
   "source": [
    "# Adds response_model to ChatCompletion\n",
    "# Allows the return of Pydantic model rather than raw JSON\n",
    "client = instructor.from_openai(OpenAI())"
   ]
  },
  {
   "cell_type": "markdown",
   "metadata": {},
   "source": [
    "## Generating Knowledge Graphs"
   ]
  },
  {
   "cell_type": "code",
   "execution_count": 5,
   "metadata": {},
   "outputs": [],
   "source": [
    "def generate_graph(input) -> KnowledgeGraph:\n",
    "    return client.chat.completions.create(\n",
    "        model=\"gpt-4o\",\n",
    "        messages=[\n",
    "            {\n",
    "                \"role\": \"user\",\n",
    "                \"content\": f\"Represent up to date knowledge about the following with a multi-level knowledge graph: {input}\"\n",
    "            }\n",
    "        ],\n",
    "        response_model=KnowledgeGraph,\n",
    "    )  # type: ignore\n",
    "\n",
    "# Example usage\n",
    "graph = generate_graph(\"Quantum mechanics\")\n",
    "graph.draw(\"quantum_mechanics_graph\")"
   ]
  },
  {
   "cell_type": "markdown",
   "metadata": {},
   "source": [
    "## Iterative Updates\n",
    "\n",
    "Now that we've seen how to generate a knowledge graph from a single input, let's see how we can iteratively update our knowledge graph with new information, or when information does not fit into a single prompt.\n",
    "\n",
    "Let's take an easy example where we want to visualise the combined knowledge graph that the following sentences represent."
   ]
  },
  {
   "cell_type": "code",
   "execution_count": 6,
   "metadata": {},
   "outputs": [],
   "source": [
    "def generate_graph(input: List[str]) -> KnowledgeGraph:\n",
    "    cur_state = KnowledgeGraph()  \n",
    "    num_iterations = len(input)\n",
    "    for i, inp in enumerate(input):\n",
    "        new_updates = client.chat.completions.create(\n",
    "            model=\"gpt-4o\",\n",
    "            messages=[\n",
    "                {\n",
    "                    \"role\": \"system\",\n",
    "                    \"content\": \"\"\"You are an iterative knowledge graph builder.\n",
    "                    You are given the current state of the graph, and you must append the nodes and edges\n",
    "                    to it. Do not produce any duplcates and try to reuse nodes as much as possible.\"\"\",\n",
    "                },\n",
    "                {\n",
    "                    \"role\": \"user\",\n",
    "                    \"content\": f\"\"\"Extract any new nodes and edges from the following:\n",
    "                    # Part {i}/{num_iterations} of the input:\n",
    "\n",
    "                    {inp}\"\"\",\n",
    "                },\n",
    "                {\n",
    "                    \"role\": \"user\",\n",
    "                    \"content\": f\"\"\"Here is the current state of the graph:\n",
    "                    {cur_state.model_dump_json(indent=2)}\"\"\",\n",
    "                },  \n",
    "            ],\n",
    "            response_model=KnowledgeGraph,\n",
    "        )  # type: ignore\n",
    "\n",
    "        # Update the current state\n",
    "        cur_state = cur_state.update(new_updates)  \n",
    "        # cur_state.draw(prefix=f\"iteration_{i}\")  # draw intermediate graphs?\n",
    "    return cur_state"
   ]
  },
  {
   "cell_type": "code",
   "execution_count": 7,
   "metadata": {},
   "outputs": [],
   "source": [
    "text_chunks = [\n",
    "    \"Jason knows a lot about quantum mechanics. He is a physicist. He is a professor\",\n",
    "    \"Professors are smart.\",\n",
    "    \"Sarah knows Jason and is a student of his.\",\n",
    "    \"Sarah is a student at the University of Toronto. and UofT is in Canada\",\n",
    "]\n",
    "\n",
    "final_graph: KnowledgeGraph = generate_graph(text_chunks)\n",
    "final_graph.draw(prefix=\"final\")"
   ]
  },
  {
   "cell_type": "markdown",
   "metadata": {},
   "source": [
    "## Conclusion\n",
    "\n",
    "We've seen how we can use Instructor to obtain structured outputs from the OpenAI LLM API but you could use that for any of the other open-source models that the library is compatible with."
   ]
  }
 ],
 "metadata": {
  "kernelspec": {
   "display_name": "Python 3",
   "language": "python",
   "name": "python3"
  },
  "language_info": {
   "codemirror_mode": {
    "name": "ipython",
    "version": 3
   },
   "file_extension": ".py",
   "mimetype": "text/x-python",
   "name": "python",
   "nbconvert_exporter": "python",
   "pygments_lexer": "ipython3",
   "version": "3.12.4"
  }
 },
 "nbformat": 4,
 "nbformat_minor": 4
}
