{
    "cells": [
        {
            "cell_type": "markdown",
            "metadata": {},
            "source": [
                "# Extracting Action Items from Meeting Transcripts\n",
                "\n",
                "In this notebook, we'll walk through how to extract action items from meeting transcripts using OpenAI's API and Pydantic. This use case is essential for automating project management tasks, such as task assignment and priority setting."
            ]
        },
        {
            "cell_type": "markdown",
            "metadata": {},
            "source": [
                "## Motivation\n",
                "\n",
                "Significant amount of time is dedicated to meetings, where action items are generated as the actionable outcomes of these discussions. Automating the extraction of action items can save time and guarantee that no critical tasks are overlooked."
            ]
        },
        {
            "cell_type": "markdown",
            "metadata": {},
            "source": [
                "## Defining the Structures\n",
                "\n",
                "We'll model a meeting transcript as a collection of Ticket objects, each representing an action item. Every Ticket can have multiple Subtask objects, representing smaller, manageable pieces of the main task."
            ]
        },
        {
            "cell_type": "code",
            "execution_count": 31,
            "metadata": {},
            "outputs": [],
            "source": [
                "import instructor\n",
                "from openai import OpenAI\n",
                "from typing import Iterable, List, Optional\n",
                "from enum import Enum\n",
                "from pydantic import BaseModel\n",
                "import graphviz\n",
                "import json"
            ]
        },
        {
            "cell_type": "code",
            "execution_count": 32,
            "metadata": {},
            "outputs": [],
            "source": [
                "from rich import pretty, print\n",
                "pretty.install()"
            ]
        },
        {
            "cell_type": "code",
            "execution_count": 33,
            "metadata": {},
            "outputs": [
                {
                    "data": {
                        "text/html": [
                            "<pre style=\"white-space:pre;overflow-x:auto;line-height:normal;font-family:Menlo,'DejaVu Sans Mono',consolas,'Courier New',monospace\"></pre>\n"
                        ],
                        "text/plain": []
                    },
                    "metadata": {},
                    "output_type": "display_data"
                },
                {
                    "data": {
                        "text/plain": [
                            "\u001b[3;92mTrue\u001b[0m"
                        ]
                    },
                    "execution_count": 33,
                    "metadata": {},
                    "output_type": "execute_result"
                }
            ],
            "source": [
                "from dotenv import load_dotenv\n",
                "load_dotenv(\"../api_keys.env\")"
            ]
        },
        {
            "cell_type": "code",
            "execution_count": 34,
            "metadata": {},
            "outputs": [],
            "source": [
                "class PriorityEnum(str, Enum):\n",
                "    high = \"High\"\n",
                "    medium = \"Medium\"\n",
                "    low = \"Low\"\n",
                "\n",
                "\n",
                "class Subtask(BaseModel):\n",
                "    \"\"\"Correctly resolved subtask from the given transcript\"\"\"\n",
                "\n",
                "    id: int\n",
                "    name: str\n",
                "\n",
                "\n",
                "class Ticket(BaseModel):\n",
                "    \"\"\"Correctly resolved ticket from the given transcript\"\"\"\n",
                "\n",
                "    id: int\n",
                "    name: str\n",
                "    description: str\n",
                "    priority: PriorityEnum\n",
                "    assignees: List[str]\n",
                "    subtasks: Optional[List[Subtask]]\n",
                "    dependencies: Optional[List[int]]"
            ]
        },
        {
            "cell_type": "markdown",
            "metadata": {},
            "source": [
                "## Extracting Action Items\n",
                "\n",
                "To extract action items from a meeting transcript, we use the `generate` function. It calls OpenAI's API, processes the text, and returns a set of action items modeled as `ActionItems`."
            ]
        },
        {
            "cell_type": "code",
            "execution_count": 35,
            "metadata": {},
            "outputs": [],
            "source": [
                "# Apply the patch to the OpenAI client\n",
                "# enables response_model keyword\n",
                "client = instructor.from_openai(OpenAI())\n",
                "\n",
                "\n",
                "def generate_action_items(data: str) -> Iterable[Ticket]:\n",
                "    return client.chat.completions.create(\n",
                "        model=\"gpt-4o\",\n",
                "        response_model=Iterable[Ticket],\n",
                "        messages=[\n",
                "            {\n",
                "                \"role\": \"system\",\n",
                "                \"content\": \"You are given the transcript of a meeting. Your task is to create detailed action items\"\n",
                "            },\n",
                "            {\n",
                "                \"role\": \"user\",\n",
                "                \"content\": f\"Create Ticket graph for the following transcript:\\n{data}\"\n",
                "            }\n",
                "        ]\n",
                "    )"
            ]
        },
        {
            "cell_type": "markdown",
            "metadata": {},
            "source": [
                "## Evaluation and Testing\n",
                "\n",
                "To test the `generate` function, we provide it with a sample transcript, and then print the JSON representation of the extracted action items."
            ]
        },
        {
            "cell_type": "code",
            "execution_count": 36,
            "metadata": {},
            "outputs": [],
            "source": [
                "transcript = \"\"\"Alice: Hey team, we have several critical tasks we need to tackle for the upcoming release. First, we need to work on improving the authentication system. It's a top priority.\n",
                "\n",
                "Bob: Got it, Alice. I can take the lead on the authentication improvements. Are there any specific areas you want me to focus on?\n",
                "\n",
                "Alice: Good question, Bob. We need both a front-end revamp and back-end optimization. So basically, two sub-tasks.\n",
                "\n",
                "Carol: I can help with the front-end part of the authentication system.\n",
                "\n",
                "Bob: Great, Carol. I'll handle the back-end optimization then.\n",
                "\n",
                "Alice: Perfect. Now, after the authentication system is improved, we have to integrate it with our new billing system. That's a medium priority task.\n",
                "\n",
                "Carol: Is the new billing system already in place?\n",
                "\n",
                "Alice: No, it's actually another task. So it's a dependency for the integration task. Bob, can you also handle the billing system?\n",
                "\n",
                "Bob: Sure, but I'll need to complete the back-end optimization of the authentication system first, so it's dependent on that.\n",
                "\n",
                "Alice: Understood. Lastly, we also need to update our user documentation to reflect all these changes. It's a low-priority task but still important.\n",
                "\n",
                "Carol: I can take that on once the front-end changes for the authentication system are done. So, it would be dependent on that.\n",
                "\n",
                "Alice: Sounds like a plan. Let's get these tasks modeled out and get started.\"\"\""
            ]
        },
        {
            "cell_type": "code",
            "execution_count": 37,
            "metadata": {},
            "outputs": [],
            "source": [
                "prediction = generate_action_items(transcript)"
            ]
        },
        {
            "cell_type": "code",
            "execution_count": 38,
            "metadata": {},
            "outputs": [
                {
                    "data": {
                        "text/html": [
                            "<pre style=\"white-space:pre;overflow-x:auto;line-height:normal;font-family:Menlo,'DejaVu Sans Mono',consolas,'Courier New',monospace\"><span style=\"font-weight: bold\">[</span>\n",
                            "  <span style=\"font-weight: bold\">{</span>\n",
                            "    <span style=\"color: #008000; text-decoration-color: #008000\">\"id\"</span>: <span style=\"color: #008080; text-decoration-color: #008080; font-weight: bold\">1</span>,\n",
                            "    <span style=\"color: #008000; text-decoration-color: #008000\">\"name\"</span>: <span style=\"color: #008000; text-decoration-color: #008000\">\"Improve Authentication System\"</span>,\n",
                            "    <span style=\"color: #008000; text-decoration-color: #008000\">\"description\"</span>: <span style=\"color: #008000; text-decoration-color: #008000\">\"Enhance both the front-end and back-end of the authentication system.\"</span>,\n",
                            "    <span style=\"color: #008000; text-decoration-color: #008000\">\"priority\"</span>: <span style=\"color: #008000; text-decoration-color: #008000\">\"High\"</span>,\n",
                            "    <span style=\"color: #008000; text-decoration-color: #008000\">\"assignees\"</span>: <span style=\"font-weight: bold\">[</span>\n",
                            "      <span style=\"color: #008000; text-decoration-color: #008000\">\"Bob\"</span>\n",
                            "    <span style=\"font-weight: bold\">]</span>,\n",
                            "    <span style=\"color: #008000; text-decoration-color: #008000\">\"subtasks\"</span>: <span style=\"font-weight: bold\">[</span>\n",
                            "      <span style=\"font-weight: bold\">{</span>\n",
                            "        <span style=\"color: #008000; text-decoration-color: #008000\">\"id\"</span>: <span style=\"color: #008080; text-decoration-color: #008080; font-weight: bold\">2</span>,\n",
                            "        <span style=\"color: #008000; text-decoration-color: #008000\">\"name\"</span>: <span style=\"color: #008000; text-decoration-color: #008000\">\"Front-end Revamp\"</span>\n",
                            "      <span style=\"font-weight: bold\">}</span>,\n",
                            "      <span style=\"font-weight: bold\">{</span>\n",
                            "        <span style=\"color: #008000; text-decoration-color: #008000\">\"id\"</span>: <span style=\"color: #008080; text-decoration-color: #008080; font-weight: bold\">3</span>,\n",
                            "        <span style=\"color: #008000; text-decoration-color: #008000\">\"name\"</span>: <span style=\"color: #008000; text-decoration-color: #008000\">\"Back-end Optimization\"</span>\n",
                            "      <span style=\"font-weight: bold\">}</span>\n",
                            "    <span style=\"font-weight: bold\">]</span>,\n",
                            "    <span style=\"color: #008000; text-decoration-color: #008000\">\"dependencies\"</span>: null\n",
                            "  <span style=\"font-weight: bold\">}</span>,\n",
                            "  <span style=\"font-weight: bold\">{</span>\n",
                            "    <span style=\"color: #008000; text-decoration-color: #008000\">\"id\"</span>: <span style=\"color: #008080; text-decoration-color: #008080; font-weight: bold\">4</span>,\n",
                            "    <span style=\"color: #008000; text-decoration-color: #008000\">\"name\"</span>: <span style=\"color: #008000; text-decoration-color: #008000\">\"Integrate Authentication with Billing System\"</span>,\n",
                            "    <span style=\"color: #008000; text-decoration-color: #008000\">\"description\"</span>: <span style=\"color: #008000; text-decoration-color: #008000\">\"Integrate the improved authentication system with the new billing system.\"</span>,\n",
                            "    <span style=\"color: #008000; text-decoration-color: #008000\">\"priority\"</span>: <span style=\"color: #008000; text-decoration-color: #008000\">\"Medium\"</span>,\n",
                            "    <span style=\"color: #008000; text-decoration-color: #008000\">\"assignees\"</span>: <span style=\"font-weight: bold\">[]</span>,\n",
                            "    <span style=\"color: #008000; text-decoration-color: #008000\">\"subtasks\"</span>: null,\n",
                            "    <span style=\"color: #008000; text-decoration-color: #008000\">\"dependencies\"</span>: <span style=\"font-weight: bold\">[</span>\n",
                            "      <span style=\"color: #008080; text-decoration-color: #008080; font-weight: bold\">1</span>,\n",
                            "      <span style=\"color: #008080; text-decoration-color: #008080; font-weight: bold\">5</span>\n",
                            "    <span style=\"font-weight: bold\">]</span>\n",
                            "  <span style=\"font-weight: bold\">}</span>,\n",
                            "  <span style=\"font-weight: bold\">{</span>\n",
                            "    <span style=\"color: #008000; text-decoration-color: #008000\">\"id\"</span>: <span style=\"color: #008080; text-decoration-color: #008080; font-weight: bold\">5</span>,\n",
                            "    <span style=\"color: #008000; text-decoration-color: #008000\">\"name\"</span>: <span style=\"color: #008000; text-decoration-color: #008000\">\"Implement New Billing System\"</span>,\n",
                            "    <span style=\"color: #008000; text-decoration-color: #008000\">\"description\"</span>: <span style=\"color: #008000; text-decoration-color: #008000\">\"Develop and deploy the new billing system.\"</span>,\n",
                            "    <span style=\"color: #008000; text-decoration-color: #008000\">\"priority\"</span>: <span style=\"color: #008000; text-decoration-color: #008000\">\"Medium\"</span>,\n",
                            "    <span style=\"color: #008000; text-decoration-color: #008000\">\"assignees\"</span>: <span style=\"font-weight: bold\">[</span>\n",
                            "      <span style=\"color: #008000; text-decoration-color: #008000\">\"Bob\"</span>\n",
                            "    <span style=\"font-weight: bold\">]</span>,\n",
                            "    <span style=\"color: #008000; text-decoration-color: #008000\">\"subtasks\"</span>: null,\n",
                            "    <span style=\"color: #008000; text-decoration-color: #008000\">\"dependencies\"</span>: <span style=\"font-weight: bold\">[</span>\n",
                            "      <span style=\"color: #008080; text-decoration-color: #008080; font-weight: bold\">3</span>\n",
                            "    <span style=\"font-weight: bold\">]</span>\n",
                            "  <span style=\"font-weight: bold\">}</span>,\n",
                            "  <span style=\"font-weight: bold\">{</span>\n",
                            "    <span style=\"color: #008000; text-decoration-color: #008000\">\"id\"</span>: <span style=\"color: #008080; text-decoration-color: #008080; font-weight: bold\">6</span>,\n",
                            "    <span style=\"color: #008000; text-decoration-color: #008000\">\"name\"</span>: <span style=\"color: #008000; text-decoration-color: #008000\">\"Update User Documentation\"</span>,\n",
                            "    <span style=\"color: #008000; text-decoration-color: #008000\">\"description\"</span>: <span style=\"color: #008000; text-decoration-color: #008000\">\"Update user documentation to reflect new changes in the authentication and billing systems.\"</span>,\n",
                            "    <span style=\"color: #008000; text-decoration-color: #008000\">\"priority\"</span>: <span style=\"color: #008000; text-decoration-color: #008000\">\"Low\"</span>,\n",
                            "    <span style=\"color: #008000; text-decoration-color: #008000\">\"assignees\"</span>: <span style=\"font-weight: bold\">[</span>\n",
                            "      <span style=\"color: #008000; text-decoration-color: #008000\">\"Carol\"</span>\n",
                            "    <span style=\"font-weight: bold\">]</span>,\n",
                            "    <span style=\"color: #008000; text-decoration-color: #008000\">\"subtasks\"</span>: null,\n",
                            "    <span style=\"color: #008000; text-decoration-color: #008000\">\"dependencies\"</span>: <span style=\"font-weight: bold\">[</span>\n",
                            "      <span style=\"color: #008080; text-decoration-color: #008080; font-weight: bold\">2</span>\n",
                            "    <span style=\"font-weight: bold\">]</span>\n",
                            "  <span style=\"font-weight: bold\">}</span>\n",
                            "<span style=\"font-weight: bold\">]</span>\n",
                            "</pre>\n"
                        ],
                        "text/plain": [
                            "\u001b[1m[\u001b[0m\n",
                            "  \u001b[1m{\u001b[0m\n",
                            "    \u001b[32m\"id\"\u001b[0m: \u001b[1;36m1\u001b[0m,\n",
                            "    \u001b[32m\"name\"\u001b[0m: \u001b[32m\"Improve Authentication System\"\u001b[0m,\n",
                            "    \u001b[32m\"description\"\u001b[0m: \u001b[32m\"Enhance both the front-end and back-end of the authentication system.\"\u001b[0m,\n",
                            "    \u001b[32m\"priority\"\u001b[0m: \u001b[32m\"High\"\u001b[0m,\n",
                            "    \u001b[32m\"assignees\"\u001b[0m: \u001b[1m[\u001b[0m\n",
                            "      \u001b[32m\"Bob\"\u001b[0m\n",
                            "    \u001b[1m]\u001b[0m,\n",
                            "    \u001b[32m\"subtasks\"\u001b[0m: \u001b[1m[\u001b[0m\n",
                            "      \u001b[1m{\u001b[0m\n",
                            "        \u001b[32m\"id\"\u001b[0m: \u001b[1;36m2\u001b[0m,\n",
                            "        \u001b[32m\"name\"\u001b[0m: \u001b[32m\"Front-end Revamp\"\u001b[0m\n",
                            "      \u001b[1m}\u001b[0m,\n",
                            "      \u001b[1m{\u001b[0m\n",
                            "        \u001b[32m\"id\"\u001b[0m: \u001b[1;36m3\u001b[0m,\n",
                            "        \u001b[32m\"name\"\u001b[0m: \u001b[32m\"Back-end Optimization\"\u001b[0m\n",
                            "      \u001b[1m}\u001b[0m\n",
                            "    \u001b[1m]\u001b[0m,\n",
                            "    \u001b[32m\"dependencies\"\u001b[0m: null\n",
                            "  \u001b[1m}\u001b[0m,\n",
                            "  \u001b[1m{\u001b[0m\n",
                            "    \u001b[32m\"id\"\u001b[0m: \u001b[1;36m4\u001b[0m,\n",
                            "    \u001b[32m\"name\"\u001b[0m: \u001b[32m\"Integrate Authentication with Billing System\"\u001b[0m,\n",
                            "    \u001b[32m\"description\"\u001b[0m: \u001b[32m\"Integrate the improved authentication system with the new billing system.\"\u001b[0m,\n",
                            "    \u001b[32m\"priority\"\u001b[0m: \u001b[32m\"Medium\"\u001b[0m,\n",
                            "    \u001b[32m\"assignees\"\u001b[0m: \u001b[1m[\u001b[0m\u001b[1m]\u001b[0m,\n",
                            "    \u001b[32m\"subtasks\"\u001b[0m: null,\n",
                            "    \u001b[32m\"dependencies\"\u001b[0m: \u001b[1m[\u001b[0m\n",
                            "      \u001b[1;36m1\u001b[0m,\n",
                            "      \u001b[1;36m5\u001b[0m\n",
                            "    \u001b[1m]\u001b[0m\n",
                            "  \u001b[1m}\u001b[0m,\n",
                            "  \u001b[1m{\u001b[0m\n",
                            "    \u001b[32m\"id\"\u001b[0m: \u001b[1;36m5\u001b[0m,\n",
                            "    \u001b[32m\"name\"\u001b[0m: \u001b[32m\"Implement New Billing System\"\u001b[0m,\n",
                            "    \u001b[32m\"description\"\u001b[0m: \u001b[32m\"Develop and deploy the new billing system.\"\u001b[0m,\n",
                            "    \u001b[32m\"priority\"\u001b[0m: \u001b[32m\"Medium\"\u001b[0m,\n",
                            "    \u001b[32m\"assignees\"\u001b[0m: \u001b[1m[\u001b[0m\n",
                            "      \u001b[32m\"Bob\"\u001b[0m\n",
                            "    \u001b[1m]\u001b[0m,\n",
                            "    \u001b[32m\"subtasks\"\u001b[0m: null,\n",
                            "    \u001b[32m\"dependencies\"\u001b[0m: \u001b[1m[\u001b[0m\n",
                            "      \u001b[1;36m3\u001b[0m\n",
                            "    \u001b[1m]\u001b[0m\n",
                            "  \u001b[1m}\u001b[0m,\n",
                            "  \u001b[1m{\u001b[0m\n",
                            "    \u001b[32m\"id\"\u001b[0m: \u001b[1;36m6\u001b[0m,\n",
                            "    \u001b[32m\"name\"\u001b[0m: \u001b[32m\"Update User Documentation\"\u001b[0m,\n",
                            "    \u001b[32m\"description\"\u001b[0m: \u001b[32m\"Update user documentation to reflect new changes in the authentication and billing systems.\"\u001b[0m,\n",
                            "    \u001b[32m\"priority\"\u001b[0m: \u001b[32m\"Low\"\u001b[0m,\n",
                            "    \u001b[32m\"assignees\"\u001b[0m: \u001b[1m[\u001b[0m\n",
                            "      \u001b[32m\"Carol\"\u001b[0m\n",
                            "    \u001b[1m]\u001b[0m,\n",
                            "    \u001b[32m\"subtasks\"\u001b[0m: null,\n",
                            "    \u001b[32m\"dependencies\"\u001b[0m: \u001b[1m[\u001b[0m\n",
                            "      \u001b[1;36m2\u001b[0m\n",
                            "    \u001b[1m]\u001b[0m\n",
                            "  \u001b[1m}\u001b[0m\n",
                            "\u001b[1m]\u001b[0m\n"
                        ]
                    },
                    "metadata": {},
                    "output_type": "display_data"
                }
            ],
            "source": [
                "print(json.dumps([ticket.dict() for ticket in prediction], indent=2))"
            ]
        },
        {
            "cell_type": "markdown",
            "metadata": {},
            "source": [
                "## Visualizing the tasks\n",
                "\n",
                "In order to quickly visualize the data we used code interpreter to create a graphviz export of the json version of the ActionItems array.  \n",
                "Example:"
            ]
        },
        {
            "cell_type": "markdown",
            "metadata": {},
            "source": [
                "!['Action Items graph'](action_items_example.png)"
            ]
        },
        {
            "cell_type": "code",
            "execution_count": 39,
            "metadata": {},
            "outputs": [
                {
                    "data": {
                        "text/html": [
                            "<pre style=\"white-space:pre;overflow-x:auto;line-height:normal;font-family:Menlo,'DejaVu Sans Mono',consolas,'Courier New',monospace\"></pre>\n"
                        ],
                        "text/plain": []
                    },
                    "metadata": {},
                    "output_type": "display_data"
                },
                {
                    "data": {
                        "text/plain": [
                            "\u001b[32m'action_items.pdf'\u001b[0m"
                        ]
                    },
                    "execution_count": 39,
                    "metadata": {},
                    "output_type": "execute_result"
                }
            ],
            "source": [
                "\n",
                "dot = graphviz.Digraph(comment='Action Items')\n",
                "\n",
                "for ticket in prediction:\n",
                "    dot.node(str(ticket.id), f\"{ticket.name}\\n{ticket.priority}\\n{', '.join(ticket.assignees)}\")\n",
                "    \n",
                "    if ticket.subtasks:\n",
                "        for subtask in ticket.subtasks:\n",
                "            dot.node(f\"{ticket.id}.{subtask.id}\", subtask.name)\n",
                "            dot.edge(str(ticket.id), f\"{ticket.id}.{subtask.id}\")\n",
                "    \n",
                "    if ticket.dependencies:\n",
                "        for dep in ticket.dependencies:\n",
                "            dot.edge(str(dep), str(ticket.id))\n",
                "\n",
                "dot.render('action_items', view=True)"
            ]
        },
        {
            "cell_type": "markdown",
            "metadata": {},
            "source": [
                "In this example, the `generate_action_items` function successfully identifies and segments the action items, assigning them priorities, assignees, subtasks, and dependencies as discussed in the meeting.\n",
                "\n",
                "By automating this process, you can ensure that important tasks and details are not lost in the sea of meeting minutes, making project management more efficient and effective."
            ]
        }
    ],
    "metadata": {
        "kernelspec": {
            "display_name": "Python 3",
            "language": "python",
            "name": "python3"
        },
        "language_info": {
            "codemirror_mode": {
                "name": "ipython",
                "version": 3
            },
            "file_extension": ".py",
            "mimetype": "text/x-python",
            "name": "python",
            "nbconvert_exporter": "python",
            "pygments_lexer": "ipython3",
            "version": "3.12.4"
        }
    },
    "nbformat": 4,
    "nbformat_minor": 4
}
