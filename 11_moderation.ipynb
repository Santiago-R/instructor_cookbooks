{
    "cells": [
        {
            "cell_type": "markdown",
            "metadata": {},
            "source": [
                "# OpenAI Moderation\n",
                "\n",
                "This example uses OpenAI's moderation endpoint to check content compliance with OpenAI's usage policies. It can identify and filter harmful content that violates moderation policies.\n",
                "\n",
                "The model flags content and classifies it into categories including hate, harassment, self-harm, sexual content, and violence. Each category has subcategories for detailed classification.\n",
                "\n",
                "This validator is to be used for monitoring OpenAI API inputs and outputs, other use cases are currently not allowed."
            ]
        },
        {
            "cell_type": "markdown",
            "metadata": {},
            "source": [
                "## Incorporating OpenAI moderation validator\n",
                "\n",
                "The following code defines a function to validate content using OpenAI's Moderation endpoint. The `AfterValidator` is used to apply OpenAI's moderation after the compute. This moderation checks if the content complies with OpenAI's usage policies and flags any harmful content. Here's how it works:\n",
                "\n",
                "1. Generate the OpenAI client and patch it with `instructor`. Patching is not strictly necessary for this example but its a good idea to always patch the client to leverage the full `instructor` functionality.\n",
                "2. Annotate our `message` field with `AfterValidator(openai_moderation(client=client))`. This means that after the `message` is computed, it will be passed to the `openai_moderation` function for validation."
            ]
        },
        {
            "cell_type": "code",
            "execution_count": 9,
            "metadata": {},
            "outputs": [],
            "source": [
                "import instructor\n",
                "from instructor import openai_moderation\n",
                "\n",
                "from typing_extensions import Annotated\n",
                "from pydantic import BaseModel, AfterValidator"
            ]
        },
        {
            "cell_type": "code",
            "execution_count": 10,
            "metadata": {},
            "outputs": [
                {
                    "data": {
                        "text/plain": [
                            "True"
                        ]
                    },
                    "execution_count": 10,
                    "metadata": {},
                    "output_type": "execute_result"
                }
            ],
            "source": [
                "from dotenv import load_dotenv\n",
                "load_dotenv(\"../api_keys.env\")"
            ]
        },
        {
            "cell_type": "code",
            "execution_count": 29,
            "metadata": {},
            "outputs": [],
            "source": [
                "from openai import OpenAI\n",
                "client = instructor.patch(OpenAI())\n",
                "# Open issue at https://github.com/jxnl/instructor/issues/771:\n",
                "# Using .from_openai instead of .patch does not work"
            ]
        },
        {
            "cell_type": "code",
            "execution_count": 23,
            "metadata": {},
            "outputs": [],
            "source": [
                "class Response(BaseModel):\n",
                "    message: Annotated[str, AfterValidator(openai_moderation(client=client))]"
            ]
        },
        {
            "cell_type": "code",
            "execution_count": 26,
            "metadata": {},
            "outputs": [
                {
                    "name": "stdout",
                    "output_type": "stream",
                    "text": [
                        "1 validation error for Response\n",
                        "message\n",
                        "  Value error, `I want to make them suffer the consequences` was flagged for violence [type=value_error, input_value='I want to make them suffer the consequences', input_type=str]\n",
                        "    For further information visit https://errors.pydantic.dev/2.8/v/value_error\n"
                    ]
                }
            ],
            "source": [
                "try:\n",
                "    Response(message=\"I want to make them suffer the consequences\")\n",
                "except Exception as e:\n",
                "    print(e)"
            ]
        },
        {
            "cell_type": "code",
            "execution_count": 27,
            "metadata": {},
            "outputs": [
                {
                    "name": "stdout",
                    "output_type": "stream",
                    "text": [
                        "1 validation error for Response\n",
                        "message\n",
                        "  Value error, `I want to hurt myself.` was flagged for self_harm, self_harm_intent, self-harm, self-harm/intent [type=value_error, input_value='I want to hurt myself.', input_type=str]\n",
                        "    For further information visit https://errors.pydantic.dev/2.8/v/value_error\n"
                    ]
                }
            ],
            "source": [
                "try:\n",
                "    Response(message=\"I want to hurt myself.\")\n",
                "except Exception as e:\n",
                "    print(e)"
            ]
        }
    ],
    "metadata": {
        "kernelspec": {
            "display_name": "Python 3",
            "language": "python",
            "name": "python3"
        },
        "language_info": {
            "codemirror_mode": {
                "name": "ipython",
                "version": 3
            },
            "file_extension": ".py",
            "mimetype": "text/x-python",
            "name": "python",
            "nbconvert_exporter": "python",
            "pygments_lexer": "ipython3",
            "version": "3.12.4"
        }
    },
    "nbformat": 4,
    "nbformat_minor": 4
}
