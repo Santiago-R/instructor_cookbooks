{
    "cells": [
        {
            "cell_type": "markdown",
            "metadata": {},
            "source": [
                "# Structured Outputs using Groq\n",
                "\n",
                "This notebook demonstrates how to use Groq for inference instead of OpenAI or Anthropic. The examples use the mixtral-8x7b model."
            ]
        },
        {
            "cell_type": "markdown",
            "metadata": {},
            "source": [
                "## GroqCloud API\n",
                "\n",
                "To use Groq, you need to obtain a Groq API key. Go to GroqCloud and login. Select API Keys from the left menu and then select Create API key to create a new key."
            ]
        },
        {
            "cell_type": "markdown",
            "metadata": {},
            "source": [
                "## Setup\n",
                "\n",
                "First, let's install the required packages and set up the environment:"
            ]
        },
        {
            "cell_type": "code",
            "execution_count": 1,
            "metadata": {},
            "outputs": [],
            "source": [
                "# %pip install instructor groq pydantic openai anthropic -qq"
            ]
        },
        {
            "cell_type": "code",
            "execution_count": 2,
            "metadata": {},
            "outputs": [],
            "source": [
                "from pydantic import BaseModel, Field\n",
                "from typing import List\n",
                "import instructor"
            ]
        },
        {
            "cell_type": "code",
            "execution_count": 3,
            "metadata": {},
            "outputs": [
                {
                    "data": {
                        "text/plain": [
                            "True"
                        ]
                    },
                    "execution_count": 3,
                    "metadata": {},
                    "output_type": "execute_result"
                }
            ],
            "source": [
                "# API KEYS --> Make sure to include GROQ_API_KEY in api_keys.env file\n",
                "from dotenv import load_dotenv\n",
                "load_dotenv('../api_keys.env')"
            ]
        },
        {
            "cell_type": "code",
            "execution_count": 4,
            "metadata": {},
            "outputs": [],
            "source": [
                "from groq import Groq\n",
                "client = Groq()\n",
                "client = instructor.from_groq(client, mode=instructor.Mode.TOOLS)"
            ]
        },
        {
            "cell_type": "markdown",
            "metadata": {},
            "source": [
                "## Example Usage"
            ]
        },
        {
            "cell_type": "code",
            "execution_count": 5,
            "metadata": {},
            "outputs": [
                {
                    "name": "stdout",
                    "output_type": "stream",
                    "text": [
                        "{\n",
                        "  \"name\": \"Tesla\",\n",
                        "  \"fact\": [\n",
                        "    \"American electric vehicle and clean energy company\",\n",
                        "    \"Founded in 2003 by Elon Musk\",\n",
                        "    \"Headquartered in Austin, Texas\",\n",
                        "    \"Known for producing the Tesla Model S, Model X, Model 3, and Model Y\"\n",
                        "  ]\n",
                        "}\n"
                    ]
                }
            ],
            "source": [
                "class Character(BaseModel):\n",
                "    name: str\n",
                "    fact: List[str] = Field(..., description=\"A list of facts about the subject\")\n",
                "\n",
                "\n",
                "resp = client.chat.completions.create(\n",
                "    model=\"mixtral-8x7b-32768\",\n",
                "    messages=[\n",
                "        {\n",
                "            \"role\": \"user\",\n",
                "            \"content\": \"Tell me about the company Tesla\",\n",
                "        }\n",
                "    ],\n",
                "    response_model=Character,\n",
                ")\n",
                "\n",
                "print(resp.model_dump_json(indent=2))"
            ]
        },
        {
            "cell_type": "markdown",
            "metadata": {},
            "source": [
                "Another example:"
            ]
        },
        {
            "cell_type": "code",
            "execution_count": 14,
            "metadata": {},
            "outputs": [],
            "source": [
                "class UserExtract(BaseModel):\n",
                "    name: str\n",
                "    age: int\n",
                "\n",
                "\n",
                "user: UserExtract = client.chat.completions.create(\n",
                "    model=\"mixtral-8x7b-32768\",\n",
                "    response_model=UserExtract,\n",
                "    messages=[\n",
                "        {\"role\": \"user\", \"content\": \"Paul is 64 years old\"},\n",
                "    ],\n",
                ")"
            ]
        },
        {
            "cell_type": "code",
            "execution_count": 15,
            "metadata": {},
            "outputs": [
                {
                    "name": "stdout",
                    "output_type": "stream",
                    "text": [
                        "{\n",
                        "  \"name\": \"Paul\",\n",
                        "  \"age\": 64\n",
                        "}\n"
                    ]
                }
            ],
            "source": [
                "assert isinstance(user, UserExtract), \"Should be instance of UserExtract\"\n",
                "assert user.name.lower() == \"paul\"\n",
                "assert user.age == 64\n",
                "\n",
                "print(user.model_dump_json(indent=2))"
            ]
        },
        {
            "cell_type": "code",
            "execution_count": null,
            "metadata": {},
            "outputs": [],
            "source": []
        }
    ],
    "metadata": {
        "kernelspec": {
            "display_name": "Python 3",
            "language": "python",
            "name": "python3"
        },
        "language_info": {
            "codemirror_mode": {
                "name": "ipython",
                "version": 3
            },
            "file_extension": ".py",
            "mimetype": "text/x-python",
            "name": "python",
            "nbconvert_exporter": "python",
            "pygments_lexer": "ipython3",
            "version": "3.12.4"
        }
    },
    "nbformat": 4,
    "nbformat_minor": 4
}
