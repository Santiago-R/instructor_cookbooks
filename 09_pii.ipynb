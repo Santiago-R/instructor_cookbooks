{
 "cells": [
  {
   "cell_type": "markdown",
   "metadata": {},
   "source": [
    "# PII Data Extraction and Scrubbing\n",
    "\n",
    "## Overview\n",
    "\n",
    "This example demonstrates the usage of OpenAI's ChatCompletion model for the extraction and scrubbing of Personally Identifiable Information (PII) from a document. The code defines Pydantic models to manage the PII data and offers methods for both extraction and sanitation."
   ]
  },
  {
   "cell_type": "markdown",
   "metadata": {},
   "source": [
    "## Imports"
   ]
  },
  {
   "cell_type": "code",
   "execution_count": 7,
   "metadata": {},
   "outputs": [],
   "source": [
    "from typing import List\n",
    "from pydantic import BaseModel\n",
    "from openai import OpenAI\n",
    "import instructor\n",
    "from dotenv import load_dotenv"
   ]
  },
  {
   "cell_type": "code",
   "execution_count": 8,
   "metadata": {},
   "outputs": [],
   "source": [
    "from rich import pretty, print\n",
    "pretty.install()"
   ]
  },
  {
   "cell_type": "code",
   "execution_count": 9,
   "metadata": {},
   "outputs": [
    {
     "data": {
      "text/html": [
       "<pre style=\"white-space:pre;overflow-x:auto;line-height:normal;font-family:Menlo,'DejaVu Sans Mono',consolas,'Courier New',monospace\"></pre>\n"
      ],
      "text/plain": []
     },
     "metadata": {},
     "output_type": "display_data"
    },
    {
     "data": {
      "text/plain": [
       "\u001b[3;92mTrue\u001b[0m"
      ]
     },
     "execution_count": 9,
     "metadata": {},
     "output_type": "execute_result"
    }
   ],
   "source": [
    "# Load environment variables\n",
    "load_dotenv(\"../api_keys.env\")"
   ]
  },
  {
   "cell_type": "markdown",
   "metadata": {},
   "source": [
    "## Defining the Structures\n",
    "\n",
    "First, Pydantic models are defined to represent the PII data and the overall structure for PII data extraction."
   ]
  },
  {
   "cell_type": "code",
   "execution_count": 10,
   "metadata": {},
   "outputs": [],
   "source": [
    "class Data(BaseModel):\n",
    "    index: int\n",
    "    data_type: str\n",
    "    pii_value: str\n",
    "\n",
    "\n",
    "class PIIDataExtraction(BaseModel):\n",
    "    \"\"\"\n",
    "    Extracted PII data from a document, all data_types should try to have consistent property names\n",
    "    \"\"\"\n",
    "\n",
    "    private_data: List[Data]\n",
    "\n",
    "    def scrub_data(self, content: str) -> str:\n",
    "        \"\"\"\n",
    "        Iterates over the private data and replaces the value with a placeholder in the form of\n",
    "        <{data_type}_{i}>\n",
    "        \"\"\"\n",
    "        for i, data in enumerate(self.private_data):\n",
    "            content = content.replace(data.pii_value, f\"<{data.data_type}_{i}>\")\n",
    "        return content"
   ]
  },
  {
   "cell_type": "markdown",
   "metadata": {},
   "source": [
    "## Client Initialization"
   ]
  },
  {
   "cell_type": "code",
   "execution_count": 11,
   "metadata": {},
   "outputs": [],
   "source": [
    "client = instructor.from_openai(OpenAI())"
   ]
  },
  {
   "cell_type": "markdown",
   "metadata": {},
   "source": [
    "## Extracting PII Data\n",
    "\n",
    "The OpenAI API is utilized to extract PII information from a given document."
   ]
  },
  {
   "cell_type": "code",
   "execution_count": 12,
   "metadata": {},
   "outputs": [
    {
     "data": {
      "text/html": [
       "<pre style=\"white-space:pre;overflow-x:auto;line-height:normal;font-family:Menlo,'DejaVu Sans Mono',consolas,'Courier New',monospace\">Extracted PII Data:\n",
       "</pre>\n"
      ],
      "text/plain": [
       "Extracted PII Data:\n"
      ]
     },
     "metadata": {},
     "output_type": "display_data"
    },
    {
     "data": {
      "text/html": [
       "<pre style=\"white-space:pre;overflow-x:auto;line-height:normal;font-family:Menlo,'DejaVu Sans Mono',consolas,'Courier New',monospace\"><span style=\"font-weight: bold\">{</span>\n",
       "  <span style=\"color: #008000; text-decoration-color: #008000\">\"private_data\"</span>: <span style=\"font-weight: bold\">[</span>\n",
       "    <span style=\"font-weight: bold\">{</span>\n",
       "      <span style=\"color: #008000; text-decoration-color: #008000\">\"index\"</span>: <span style=\"color: #008080; text-decoration-color: #008080; font-weight: bold\">0</span>,\n",
       "      <span style=\"color: #008000; text-decoration-color: #008000\">\"data_type\"</span>: <span style=\"color: #008000; text-decoration-color: #008000\">\"Name\"</span>,\n",
       "      <span style=\"color: #008000; text-decoration-color: #008000\">\"pii_value\"</span>: <span style=\"color: #008000; text-decoration-color: #008000\">\"John Doe\"</span>\n",
       "    <span style=\"font-weight: bold\">}</span>,\n",
       "    <span style=\"font-weight: bold\">{</span>\n",
       "      <span style=\"color: #008000; text-decoration-color: #008000\">\"index\"</span>: <span style=\"color: #008080; text-decoration-color: #008080; font-weight: bold\">1</span>,\n",
       "      <span style=\"color: #008000; text-decoration-color: #008000\">\"data_type\"</span>: <span style=\"color: #008000; text-decoration-color: #008000\">\"Date of Birth\"</span>,\n",
       "      <span style=\"color: #008000; text-decoration-color: #008000\">\"pii_value\"</span>: <span style=\"color: #008000; text-decoration-color: #008000\">\"01/02/1980\"</span>\n",
       "    <span style=\"font-weight: bold\">}</span>,\n",
       "    <span style=\"font-weight: bold\">{</span>\n",
       "      <span style=\"color: #008000; text-decoration-color: #008000\">\"index\"</span>: <span style=\"color: #008080; text-decoration-color: #008080; font-weight: bold\">2</span>,\n",
       "      <span style=\"color: #008000; text-decoration-color: #008000\">\"data_type\"</span>: <span style=\"color: #008000; text-decoration-color: #008000\">\"SSN\"</span>,\n",
       "      <span style=\"color: #008000; text-decoration-color: #008000\">\"pii_value\"</span>: <span style=\"color: #008000; text-decoration-color: #008000\">\"123-45-6789\"</span>\n",
       "    <span style=\"font-weight: bold\">}</span>,\n",
       "    <span style=\"font-weight: bold\">{</span>\n",
       "      <span style=\"color: #008000; text-decoration-color: #008000\">\"index\"</span>: <span style=\"color: #008080; text-decoration-color: #008080; font-weight: bold\">3</span>,\n",
       "      <span style=\"color: #008000; text-decoration-color: #008000\">\"data_type\"</span>: <span style=\"color: #008000; text-decoration-color: #008000\">\"Email\"</span>,\n",
       "      <span style=\"color: #008000; text-decoration-color: #008000\">\"pii_value\"</span>: <span style=\"color: #008000; text-decoration-color: #008000\">\"john.doe@email.com\"</span>\n",
       "    <span style=\"font-weight: bold\">}</span>,\n",
       "    <span style=\"font-weight: bold\">{</span>\n",
       "      <span style=\"color: #008000; text-decoration-color: #008000\">\"index\"</span>: <span style=\"color: #008080; text-decoration-color: #008080; font-weight: bold\">4</span>,\n",
       "      <span style=\"color: #008000; text-decoration-color: #008000\">\"data_type\"</span>: <span style=\"color: #008000; text-decoration-color: #008000\">\"Phone Number\"</span>,\n",
       "      <span style=\"color: #008000; text-decoration-color: #008000\">\"pii_value\"</span>: <span style=\"color: #008000; text-decoration-color: #008000\">\"555-123-4567\"</span>\n",
       "    <span style=\"font-weight: bold\">}</span>,\n",
       "    <span style=\"font-weight: bold\">{</span>\n",
       "      <span style=\"color: #008000; text-decoration-color: #008000\">\"index\"</span>: <span style=\"color: #008080; text-decoration-color: #008080; font-weight: bold\">5</span>,\n",
       "      <span style=\"color: #008000; text-decoration-color: #008000\">\"data_type\"</span>: <span style=\"color: #008000; text-decoration-color: #008000\">\"Address\"</span>,\n",
       "      <span style=\"color: #008000; text-decoration-color: #008000\">\"pii_value\"</span>: <span style=\"color: #008000; text-decoration-color: #008000\">\"123 Main St, Springfield, IL, 62704\"</span>\n",
       "    <span style=\"font-weight: bold\">}</span>\n",
       "  <span style=\"font-weight: bold\">]</span>\n",
       "<span style=\"font-weight: bold\">}</span>\n",
       "</pre>\n"
      ],
      "text/plain": [
       "\u001b[1m{\u001b[0m\n",
       "  \u001b[32m\"private_data\"\u001b[0m: \u001b[1m[\u001b[0m\n",
       "    \u001b[1m{\u001b[0m\n",
       "      \u001b[32m\"index\"\u001b[0m: \u001b[1;36m0\u001b[0m,\n",
       "      \u001b[32m\"data_type\"\u001b[0m: \u001b[32m\"Name\"\u001b[0m,\n",
       "      \u001b[32m\"pii_value\"\u001b[0m: \u001b[32m\"John Doe\"\u001b[0m\n",
       "    \u001b[1m}\u001b[0m,\n",
       "    \u001b[1m{\u001b[0m\n",
       "      \u001b[32m\"index\"\u001b[0m: \u001b[1;36m1\u001b[0m,\n",
       "      \u001b[32m\"data_type\"\u001b[0m: \u001b[32m\"Date of Birth\"\u001b[0m,\n",
       "      \u001b[32m\"pii_value\"\u001b[0m: \u001b[32m\"01/02/1980\"\u001b[0m\n",
       "    \u001b[1m}\u001b[0m,\n",
       "    \u001b[1m{\u001b[0m\n",
       "      \u001b[32m\"index\"\u001b[0m: \u001b[1;36m2\u001b[0m,\n",
       "      \u001b[32m\"data_type\"\u001b[0m: \u001b[32m\"SSN\"\u001b[0m,\n",
       "      \u001b[32m\"pii_value\"\u001b[0m: \u001b[32m\"123-45-6789\"\u001b[0m\n",
       "    \u001b[1m}\u001b[0m,\n",
       "    \u001b[1m{\u001b[0m\n",
       "      \u001b[32m\"index\"\u001b[0m: \u001b[1;36m3\u001b[0m,\n",
       "      \u001b[32m\"data_type\"\u001b[0m: \u001b[32m\"Email\"\u001b[0m,\n",
       "      \u001b[32m\"pii_value\"\u001b[0m: \u001b[32m\"john.doe@email.com\"\u001b[0m\n",
       "    \u001b[1m}\u001b[0m,\n",
       "    \u001b[1m{\u001b[0m\n",
       "      \u001b[32m\"index\"\u001b[0m: \u001b[1;36m4\u001b[0m,\n",
       "      \u001b[32m\"data_type\"\u001b[0m: \u001b[32m\"Phone Number\"\u001b[0m,\n",
       "      \u001b[32m\"pii_value\"\u001b[0m: \u001b[32m\"555-123-4567\"\u001b[0m\n",
       "    \u001b[1m}\u001b[0m,\n",
       "    \u001b[1m{\u001b[0m\n",
       "      \u001b[32m\"index\"\u001b[0m: \u001b[1;36m5\u001b[0m,\n",
       "      \u001b[32m\"data_type\"\u001b[0m: \u001b[32m\"Address\"\u001b[0m,\n",
       "      \u001b[32m\"pii_value\"\u001b[0m: \u001b[32m\"123 Main St, Springfield, IL, 62704\"\u001b[0m\n",
       "    \u001b[1m}\u001b[0m\n",
       "  \u001b[1m]\u001b[0m\n",
       "\u001b[1m}\u001b[0m\n"
      ]
     },
     "metadata": {},
     "output_type": "display_data"
    }
   ],
   "source": [
    "EXAMPLE_DOCUMENT = \"\"\"\n",
    "# Fake Document with PII for Testing PII Scrubbing Model\n",
    "\n",
    "## Personal Story\n",
    "\n",
    "John Doe was born on 01/02/1980. His social security number is 123-45-6789. He has been using the email address john.doe@email.com for years, and he can always be reached at 555-123-4567.\n",
    "\n",
    "## Residence\n",
    "\n",
    "John currently resides at 123 Main St, Springfield, IL, 62704. He's been living there for about 5 years now.\n",
    "\"\"\"\n",
    "\n",
    "pii_data = client.chat.completions.create(\n",
    "    model=\"gpt-3.5-turbo\",\n",
    "    response_model=PIIDataExtraction,\n",
    "    messages=[\n",
    "        {\n",
    "            \"role\": \"system\",\n",
    "            \"content\": \"You are a world class PII scrubbing model, Extract the PII data from the following document\",\n",
    "        },\n",
    "        {\n",
    "            \"role\": \"user\",\n",
    "            \"content\": EXAMPLE_DOCUMENT,\n",
    "        },\n",
    "    ],\n",
    ")  # type: ignore\n",
    "\n",
    "print(\"Extracted PII Data:\")\n",
    "print(pii_data.model_dump_json(indent=2))"
   ]
  },
  {
   "cell_type": "markdown",
   "metadata": {},
   "source": [
    "## Scrubbing PII Data\n",
    "\n",
    "After extracting the PII data, the `scrub_data` method is used to sanitize the document."
   ]
  },
  {
   "cell_type": "code",
   "execution_count": 15,
   "metadata": {},
   "outputs": [
    {
     "data": {
      "text/html": [
       "<pre style=\"white-space:pre;overflow-x:auto;line-height:normal;font-family:Menlo,'DejaVu Sans Mono',consolas,'Courier New',monospace\">Scrubbed Document:\n",
       "</pre>\n"
      ],
      "text/plain": [
       "Scrubbed Document:\n"
      ]
     },
     "metadata": {},
     "output_type": "display_data"
    },
    {
     "data": {
      "text/html": [
       "<pre style=\"white-space:pre;overflow-x:auto;line-height:normal;font-family:Menlo,'DejaVu Sans Mono',consolas,'Courier New',monospace\">\n",
       "# Fake Document with PII for Testing PII Scrubbing Model\n",
       "\n",
       "## Personal Story\n",
       "\n",
       "<span style=\"font-weight: bold\">&lt;</span><span style=\"color: #ff00ff; text-decoration-color: #ff00ff; font-weight: bold\">Name_0</span><span style=\"color: #000000; text-decoration-color: #000000\">&gt; was born on &lt;Date of Birth_1&gt;. His social security number is &lt;SSN_2&gt;. He has been using the email address </span>\n",
       "<span style=\"color: #000000; text-decoration-color: #000000\">&lt;Email_3&gt; for years, and he can always be reached at &lt;Phone Number_4&gt;.</span>\n",
       "\n",
       "<span style=\"color: #000000; text-decoration-color: #000000\">## Residence</span>\n",
       "\n",
       "<span style=\"color: #000000; text-decoration-color: #000000\">John currently resides at &lt;Address_5</span><span style=\"font-weight: bold\">&gt;</span>. He's been living there for about <span style=\"color: #008080; text-decoration-color: #008080; font-weight: bold\">5</span> years now.\n",
       "\n",
       "</pre>\n"
      ],
      "text/plain": [
       "\n",
       "# Fake Document with PII for Testing PII Scrubbing Model\n",
       "\n",
       "## Personal Story\n",
       "\n",
       "\u001b[1m<\u001b[0m\u001b[1;95mName_0\u001b[0m\u001b[39m> was born on <Date of Birth_1>. His social security number is <SSN_2>. He has been using the email address \u001b[0m\n",
       "\u001b[39m<Email_3> for years, and he can always be reached at <Phone Number_4>.\u001b[0m\n",
       "\n",
       "\u001b[39m## Residence\u001b[0m\n",
       "\n",
       "\u001b[39mJohn currently resides at <Address_5\u001b[0m\u001b[1m>\u001b[0m. He's been living there for about \u001b[1;36m5\u001b[0m years now.\n",
       "\n"
      ]
     },
     "metadata": {},
     "output_type": "display_data"
    }
   ],
   "source": [
    "print(\"Scrubbed Document:\")\n",
    "print(pii_data.scrub_data(EXAMPLE_DOCUMENT))"
   ]
  }
 ],
 "metadata": {
  "kernelspec": {
   "display_name": "Python 3",
   "language": "python",
   "name": "python3"
  },
  "language_info": {
   "codemirror_mode": {
    "name": "ipython",
    "version": 3
   },
   "file_extension": ".py",
   "mimetype": "text/x-python",
   "name": "python",
   "nbconvert_exporter": "python",
   "pygments_lexer": "ipython3",
   "version": "3.12.4"
  }
 },
 "nbformat": 4,
 "nbformat_minor": 4
}
