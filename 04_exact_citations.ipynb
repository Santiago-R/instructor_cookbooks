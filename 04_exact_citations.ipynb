{
    "cells": [
        {
            "cell_type": "markdown",
            "metadata": {},
            "source": [
                "# Example: Answering Questions with Validated Citations\n",
                "\n",
                "This example shows how to use Instructor with validators to not only add citations to answers generated but also prevent hallucinations by ensuring that every statement made by the LLM is backed up by a direct quote from the context provided, and that those quotes exist!\n",
                "\n",
                "Two Python classes, `Fact` and `QuestionAnswer`, are defined to encapsulate the information of individual facts and the entire answer, respectively."
            ]
        },
        {
            "cell_type": "markdown",
            "metadata": {},
            "source": [
                "## Data Structures\n",
                "\n",
                "### The Fact Class\n",
                "\n",
                "The `Fact` class encapsulates a single statement or fact. It contains two fields:\n",
                "\n",
                "- `fact`: A string representing the body of the fact or statement.\n",
                "- `substring_quote`: A list of strings. Each string is a direct quote from the context that supports the fact.\n",
                "\n",
                "#### Validation Method: validate_sources\n",
                "\n",
                "This method validates the sources (`substring_quote`) in the context. It utilizes regex to find the span of each substring quote in the given context. If the span is not found, the quote is removed from the list."
            ]
        },
        {
            "cell_type": "code",
            "execution_count": 21,
            "metadata": {},
            "outputs": [],
            "source": [
                "import re\n",
                "from pydantic import Field, BaseModel, model_validator, ValidationInfo\n",
                "from typing import List"
            ]
        },
        {
            "cell_type": "code",
            "execution_count": 22,
            "metadata": {},
            "outputs": [],
            "source": [
                "class Fact(BaseModel):\n",
                "    fact: str = Field(...)\n",
                "    substring_quote: List[str] = Field(...)\n",
                "\n",
                "    @model_validator(mode=\"after\")\n",
                "    def validate_sources(self, info: ValidationInfo) -> \"Fact\":\n",
                "        text_chunks = info.context.get(\"text_chunk\", None)\n",
                "        spans = list(self.get_spans(text_chunks))\n",
                "        self.substring_quote = [text_chunks[span[0] : span[1]] for span in spans]\n",
                "        return self\n",
                "\n",
                "    def get_spans(self, context):\n",
                "        for quote in self.substring_quote:\n",
                "            yield from self._get_span(quote, context)\n",
                "\n",
                "    def _get_span(self, quote, context):\n",
                "        for match in re.finditer(re.escape(quote), context):\n",
                "            yield match.span()"
            ]
        },
        {
            "cell_type": "markdown",
            "metadata": {},
            "source": [
                "### The QuestionAnswer Class\n",
                "\n",
                "This class encapsulates the question and its corresponding answer. It contains two fields:\n",
                "\n",
                "- `question`: The question asked.\n",
                "- `answer`: A list of `Fact` objects that make up the answer.\n",
                "\n",
                "#### Validation Method: validate_sources\n",
                "\n",
                "This method checks that each `Fact` object in the answer list has at least one valid source. If a `Fact` object has no valid sources, it is removed from the answer list."
            ]
        },
        {
            "cell_type": "code",
            "execution_count": 23,
            "metadata": {},
            "outputs": [],
            "source": [
                "class QuestionAnswer(BaseModel):\n",
                "    question: str = Field(...)\n",
                "    answer: List[Fact] = Field(...)\n",
                "\n",
                "    @model_validator(mode=\"after\")\n",
                "    def validate_sources(self) -> \"QuestionAnswer\":\n",
                "        self.answer = [fact for fact in self.answer if len(fact.substring_quote) > 0]\n",
                "        return self"
            ]
        },
        {
            "cell_type": "markdown",
            "metadata": {},
            "source": [
                "## Function to Ask AI a Question\n",
                "\n",
                "### The ask_ai Function\n",
                "\n",
                "This function takes a string question and a string context and returns a `QuestionAnswer` object. It uses the OpenAI API to fetch the answer and then validates the sources using the defined classes.\n",
                "\n",
                "To understand the validation context work from pydantic check out [pydantic's docs](https://docs.pydantic.dev/latest/usage/validators/)."
            ]
        },
        {
            "cell_type": "code",
            "execution_count": 24,
            "metadata": {},
            "outputs": [],
            "source": [
                "from openai import OpenAI\n",
                "import instructor\n",
                "from dotenv import load_dotenv"
            ]
        },
        {
            "cell_type": "code",
            "execution_count": 25,
            "metadata": {},
            "outputs": [
                {
                    "data": {
                        "text/plain": [
                            "True"
                        ]
                    },
                    "execution_count": 25,
                    "metadata": {},
                    "output_type": "execute_result"
                }
            ],
            "source": [
                "# Load API keys\n",
                "load_dotenv(dotenv_path='../api_keys.env')"
            ]
        },
        {
            "cell_type": "code",
            "execution_count": 26,
            "metadata": {},
            "outputs": [],
            "source": [
                "# Apply the patch to the OpenAI client\n",
                "client = instructor.from_openai(OpenAI())"
            ]
        },
        {
            "cell_type": "code",
            "execution_count": 27,
            "metadata": {},
            "outputs": [],
            "source": [
                "def ask_ai(question: str, context: str) -> QuestionAnswer:\n",
                "    return client.chat.completions.create(\n",
                "        model=\"gpt-4o\",\n",
                "        temperature=0,\n",
                "        response_model=QuestionAnswer,\n",
                "        messages=[\n",
                "            {\n",
                "                \"role\": \"system\",\n",
                "                \"content\": \"You are a world class algorithm to answer questions with correct and exact citations.\",\n",
                "            },\n",
                "            {\"role\": \"user\", \"content\": f\"{context}\"},\n",
                "            {\"role\": \"user\", \"content\": f\"Question: {question}\"},\n",
                "        ],\n",
                "        validation_context={\"text_chunk\": context},\n",
                "    )"
            ]
        },
        {
            "cell_type": "markdown",
            "metadata": {},
            "source": [
                "## Example\n",
                "\n",
                "Here's an example of using these classes and functions to ask a question and validate the answer."
            ]
        },
        {
            "cell_type": "code",
            "execution_count": 28,
            "metadata": {},
            "outputs": [
                {
                    "name": "stdout",
                    "output_type": "stream",
                    "text": [
                        "{\n",
                        "  \"question\": \"What did the author do during college?\",\n",
                        "  \"answer\": [\n",
                        "    {\n",
                        "      \"fact\": \"The author studied Computational Mathematics and physics in university.\",\n",
                        "      \"substring_quote\": [\n",
                        "        \"studied Computational Mathematics and physics\"\n",
                        "      ]\n",
                        "    },\n",
                        "    {\n",
                        "      \"fact\": \"The author worked at many companies including Stitchfix and Facebook as part of a coop program.\",\n",
                        "      \"substring_quote\": [\n",
                        "        \"worked at many companies including Stitchfix, Facebook\"\n",
                        "      ]\n",
                        "    },\n",
                        "    {\n",
                        "      \"fact\": \"The author started the Data Science club at the University of Waterloo and was the president of the club for 2 years.\",\n",
                        "      \"substring_quote\": [\n",
                        "        \"started the Data Science club at the University of Waterloo and I was the president of the club for 2 years\"\n",
                        "      ]\n",
                        "    }\n",
                        "  ]\n",
                        "}\n"
                    ]
                }
            ],
            "source": [
                "question = \"What did the author do during college?\"\n",
                "context = \"\"\"\n",
                "My name is Jason Liu, and I grew up in Toronto Canada but I was born in China.\n",
                "I went to an arts high school but in university I studied Computational Mathematics and physics.\n",
                "As part of coop I worked at many companies including Stitchfix, Facebook.\n",
                "I also started the Data Science club at the University of Waterloo and I was the president of the club for 2 years.\n",
                "\"\"\"\n",
                "\n",
                "result = ask_ai(question, context)\n",
                "print(result.model_dump_json(indent=2))"
            ]
        },
        {
            "cell_type": "markdown",
            "metadata": {},
            "source": [
                "The output would be a `QuestionAnswer` object containing validated facts and their sources. This ensures that every piece of information in the answer has been validated against the context."
            ]
        }
    ],
    "metadata": {
        "kernelspec": {
            "display_name": "Python 3",
            "language": "python",
            "name": "python3"
        },
        "language_info": {
            "codemirror_mode": {
                "name": "ipython",
                "version": 3
            },
            "file_extension": ".py",
            "mimetype": "text/x-python",
            "name": "python",
            "nbconvert_exporter": "python",
            "pygments_lexer": "ipython3",
            "version": "3.12.4"
        }
    },
    "nbformat": 4,
    "nbformat_minor": 4
}
