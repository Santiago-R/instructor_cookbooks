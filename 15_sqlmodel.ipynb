{
  "cells": [
    {
      "cell_type": "markdown",
      "metadata": {},
      "source": [
        "# Integrating Instructor with SQLModel\n",
        "\n",
        "SQLModel is a library designed for interacting with SQL databases from Python code using Python objects. `SQLModel` is based on `Pydantic` and `SQLAlchemy` and was created by tiangolo who also developed `FastAPI`. So you can expect seamless integration across all these libraries, reducing code duplicating and improving your developer experience.\n",
        "\n",
        "## Example: Adding responses from Instructor directly to your DB\n",
        "\n",
        "### Defining the Models\n",
        "\n",
        "First we'll define a model that will serve as a table for our database and the structure of our outputs from `Instructor`\n",
        "\n",
        "**Model Definition**\n",
        "You'll need to subclass your models with both `SQLModel` and `instructor.OpenAISchema` for them to work with SQLModel"
      ]
    },
    {
      "cell_type": "code",
      "execution_count": 1,
      "metadata": {},
      "outputs": [],
      "source": [
        "import instructor\n",
        "from typing import Optional\n",
        "from sqlmodel import Field, SQLModel, create_engine"
      ]
    },
    {
      "cell_type": "code",
      "execution_count": 2,
      "metadata": {},
      "outputs": [
        {
          "data": {
            "text/plain": [
              "True"
            ]
          },
          "execution_count": 2,
          "metadata": {},
          "output_type": "execute_result"
        }
      ],
      "source": [
        "from dotenv import load_dotenv\n",
        "load_dotenv(\"../api_keys.env\")"
      ]
    },
    {
      "cell_type": "code",
      "execution_count": 3,
      "metadata": {},
      "outputs": [],
      "source": [
        "from openai import OpenAI\n",
        "client = instructor.from_openai(OpenAI())"
      ]
    },
    {
      "cell_type": "markdown",
      "metadata": {},
      "source": [
        "### Generating a record\n",
        "\n",
        "The `create_hero` function will query `OpenAI` for a `Hero` record"
      ]
    },
    {
      "cell_type": "code",
      "execution_count": 4,
      "metadata": {},
      "outputs": [],
      "source": [
        "class Hero(SQLModel, instructor.OpenAISchema, table=True):\n",
        "    id: Optional[int] = Field(default=None, primary_key=True)\n",
        "    name: str\n",
        "    secret_name: str\n",
        "    age: Optional[int] = None"
      ]
    },
    {
      "cell_type": "code",
      "execution_count": 5,
      "metadata": {},
      "outputs": [],
      "source": [
        "def create_hero() -> Hero:\n",
        "    return client.chat.completions.create(\n",
        "        model=\"gpt-3.5-turbo\",\n",
        "        response_model=Hero,\n",
        "        messages=[\n",
        "            {\"role\": \"user\", \"content\": \"Make a new superhero\"},\n",
        "        ],\n",
        "    )"
      ]
    },
    {
      "cell_type": "code",
      "execution_count": 6,
      "metadata": {},
      "outputs": [
        {
          "name": "stdout",
          "output_type": "stream",
          "text": [
            "{'name': 'Crimson Blaze', 'secret_name': 'Tara Turner', 'age': 28, 'id': None}\n"
          ]
        }
      ],
      "source": [
        "hero = create_hero()\n",
        "print(hero.model_dump())"
      ]
    },
    {
      "cell_type": "markdown",
      "metadata": {},
      "source": [
        "### Inserting the response into the DB"
      ]
    },
    {
      "cell_type": "code",
      "execution_count": 7,
      "metadata": {},
      "outputs": [],
      "source": [
        "engine = create_engine(\"sqlite:///database.db\")\n",
        "SQLModel.metadata.create_all(engine)"
      ]
    },
    {
      "cell_type": "code",
      "execution_count": 10,
      "metadata": {},
      "outputs": [],
      "source": [
        "# # BUG: NameError: name 'Session' is not defined\n",
        "\n",
        "# with Session(engine) as session:\n",
        "#     session.add(hero)\n",
        "#     session.commit()"
      ]
    },
    {
      "cell_type": "markdown",
      "metadata": {},
      "source": [
        "And there you have it! You can now use the same models for your database and `Instructor` enabling them work seamlessly! Also checkout the [FastAPI](https://python.useinstructor.com/concepts/fastapi/) guide to see how you can use these models in an API as well."
      ]
    },
    {
      "cell_type": "markdown",
      "metadata": {},
      "source": []
    }
  ],
  "metadata": {
    "kernelspec": {
      "display_name": "Python 3",
      "language": "python",
      "name": "python3"
    },
    "language_info": {
      "codemirror_mode": {
        "name": "ipython",
        "version": 3
      },
      "file_extension": ".py",
      "mimetype": "text/x-python",
      "name": "python",
      "nbconvert_exporter": "python",
      "pygments_lexer": "ipython3",
      "version": "3.12.4"
    }
  },
  "nbformat": 4,
  "nbformat_minor": 4
}
